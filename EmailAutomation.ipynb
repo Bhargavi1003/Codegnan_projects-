{
 "cells": [
  {
   "cell_type": "code",
   "execution_count": 33,
   "id": "7bbe0d0e-ade5-43a4-b2b2-7fab2fa5f2fd",
   "metadata": {},
   "outputs": [],
   "source": [
    "import smtplib #Simple Mail Transfer Protocol Library which consists of multiple functions to compose emails\n",
    "from email.mime.multipart import MIMEMultipart #MIMEMultipart is used to create email with multiple parts like text,attachments etc\n",
    "from email.mime.application import MIMEApplication #MIMEApplication is used to add documents to email\n",
    "from email.mime.text import MIMEText #MIMEText is used to compose  email as text and HTML document\n",
    "import random #generate random numbers/characters"
   ]
  },
  {
   "cell_type": "code",
   "execution_count": 35,
   "id": "e8cef2ac-19aa-452b-8721-5f9a99e1de57",
   "metadata": {},
   "outputs": [
    {
     "name": "stdout",
     "output_type": "stream",
     "text": [
      "2928\n"
     ]
    },
    {
     "name": "stdin",
     "output_type": "stream",
     "text": [
      "Enter Your mail:  bhargavichigurupati04@gmail.com\n",
      "Enter Otp:  2928\n"
     ]
    },
    {
     "name": "stdout",
     "output_type": "stream",
     "text": [
      "Verification Sucessfull\n"
     ]
    }
   ],
   "source": [
    "#OTP verification\n",
    "otp = random.randint(1111,9999) #generate random OTP using random.randint()\n",
    "print(otp) #prints OTP\n",
    "\n",
    "smtp_server = 'smtp.gmail.com' #Gmail server name\n",
    "smtp_port = 587 #Gmail port number\n",
    "mailusername = \"bhargavichigurupati04@gmail.com\" #to login into gmail account\n",
    "mailpassword = \"acgl aoig pcju asay\"\n",
    "from_email = 'bhargavichigurupati04@gmail.com' #from email address\n",
    "to_email = input(\"Enter Your mail: \") #to email address\n",
    "subject = 'OTP for Login' #subject of email\n",
    "body = f\"The OTP for verification is {otp}.\\nKindly don't share to anyone.\" #msg to print in the body of email\n",
    "\n",
    "msg = MIMEMultipart() #create MIME object that contains multiple parts like text & attachments\n",
    "msg['From'] = from_email #sets from email in email header\n",
    "msg['To'] = to_email #sets to email in email header\n",
    "msg['Subject'] = subject #sets subject to the email header\n",
    "msg.attach(MIMEText(body, 'plain')) #attaching all parts in email\n",
    "\n",
    "server = smtplib.SMTP(smtp_server, smtp_port) #connecting SMTP server(email server)\n",
    "server.starttls() #starting the server\n",
    "server.login(mailusername, mailpassword) #sending login credentials to the server\n",
    "server.send_message(msg) #sending email message created earlier\n",
    "server.quit() #quit the server \n",
    "\n",
    "x = int(input(\"Enter Otp: \")) #valiadte OTP\n",
    "if x == otp:\n",
    "    print(\"Verification Sucessfull\") #If yes \n",
    "else:\n",
    "    print(\"Verification unsucessfull\") #If no"
   ]
  },
  {
   "cell_type": "code",
   "execution_count": 37,
   "id": "bbfa3399-dfd9-40ce-891b-b688502394e0",
   "metadata": {},
   "outputs": [
    {
     "name": "stdin",
     "output_type": "stream",
     "text": [
      "Enter Your mail:  bhargavichigurupati04@gmail.com\n"
     ]
    },
    {
     "data": {
      "text/plain": [
       "(221,\n",
       " b'2.0.0 closing connection 41be03b00d2f7-7b8a7453e92sm7942465a12.41 - gsmtp')"
      ]
     },
     "execution_count": 37,
     "metadata": {},
     "output_type": "execute_result"
    }
   ],
   "source": [
    "#File Attachment\n",
    "smtp_server = 'smtp.gmail.com' #Gmail server name\n",
    "smtp_port = 587 #Gmail port number\n",
    "mailusername = \"bhargavichigurupati04@gmail.com\" #to login into gmail account\n",
    "mailpassword = \"acgl aoig pcju asay\"\n",
    "from_email = 'bhargavichigurupati04@gmail.com'\n",
    "to_email = input(\"Enter Your mail: \") #enter to email\n",
    "subject = 'Resume' #subject to email\n",
    "body = f\"I am Bhargavi Chigurupati from Guntur.\\nI have recently attended orientation program of Tech mahindra company, as mentioned in the meeting I have attached my resume for views and looking forward to hear from you.\\nThank you!\" #message to print in the body of email\n",
    "\n",
    "msg = MIMEMultipart() #used to attach multiple parts of email\n",
    "msg['From'] = from_email\n",
    "msg['To'] = to_email\n",
    "msg['Subject'] = subject\n",
    "msg.attach(MIMEText(body, 'plain')) #attaching alll parts\n",
    "filename = 'Chigurupati_Bhargavi.docx'  #File that you want to attach to the gmail\n",
    "try:\n",
    "    with open(filename, 'rb') as file: #opens file in read  binary mode\n",
    "        part = MIMEApplication(file.read(), Name=filename)\n",
    "        part['Content-Disposition'] = f'attachment; filename=\"{filename}\"' #how the attachment should be displayed\n",
    "        msg.attach(part) #attach to mail\n",
    "except FileNotFoundError:\n",
    "    print(f\"File {filename} not found.\")\n",
    "\n",
    "server = smtplib.SMTP(smtp_server, smtp_port) #connecting to server\n",
    "server.starttls() #starting server\n",
    "server.login(mailusername, mailpassword) #sending login credentials to server\n",
    "server.send_message(msg) #sending email msg created earlier\n",
    "server.quit() #quit  server "
   ]
  },
  {
   "cell_type": "code",
   "execution_count": null,
   "id": "723d5ba5-2e2c-4114-a62b-a6b18427a952",
   "metadata": {},
   "outputs": [],
   "source": []
  },
  {
   "cell_type": "code",
   "execution_count": null,
   "id": "5d2dd1e0-6876-47f5-8c36-8ece5a2bd024",
   "metadata": {},
   "outputs": [],
   "source": []
  },
  {
   "cell_type": "code",
   "execution_count": null,
   "id": "2ee77243-e3cb-49b1-b419-e0ab8dfea149",
   "metadata": {},
   "outputs": [],
   "source": []
  },
  {
   "cell_type": "code",
   "execution_count": null,
   "id": "136715ae-7247-4821-a5db-e437e7cae986",
   "metadata": {},
   "outputs": [],
   "source": []
  },
  {
   "cell_type": "code",
   "execution_count": null,
   "id": "a0852a50-2d6e-4879-96fd-9b493341e192",
   "metadata": {},
   "outputs": [],
   "source": []
  },
  {
   "cell_type": "code",
   "execution_count": null,
   "id": "773b3044-71ba-4713-bfd9-09ef65190a73",
   "metadata": {},
   "outputs": [],
   "source": []
  },
  {
   "cell_type": "code",
   "execution_count": null,
   "id": "709f8e90-3e91-412a-8f54-4607d161d7ad",
   "metadata": {},
   "outputs": [],
   "source": []
  },
  {
   "cell_type": "code",
   "execution_count": null,
   "id": "3039f534-40b0-455c-9b09-93fb5a54ddaf",
   "metadata": {},
   "outputs": [],
   "source": []
  },
  {
   "cell_type": "code",
   "execution_count": null,
   "id": "8791298f-a3f9-41f7-a5af-0d7f485b7551",
   "metadata": {},
   "outputs": [],
   "source": []
  }
 ],
 "metadata": {
  "kernelspec": {
   "display_name": "Python 3 (ipykernel)",
   "language": "python",
   "name": "python3"
  },
  "language_info": {
   "codemirror_mode": {
    "name": "ipython",
    "version": 3
   },
   "file_extension": ".py",
   "mimetype": "text/x-python",
   "name": "python",
   "nbconvert_exporter": "python",
   "pygments_lexer": "ipython3",
   "version": "3.12.4"
  }
 },
 "nbformat": 4,
 "nbformat_minor": 5
}
